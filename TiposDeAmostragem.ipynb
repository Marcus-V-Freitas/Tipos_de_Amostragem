{
  "nbformat": 4,
  "nbformat_minor": 0,
  "metadata": {
    "colab": {
      "name": "TiposDeAmostragem.ipynb",
      "provenance": [],
      "collapsed_sections": [
        "Bojj1oE6DtMe",
        "cPpgRphw88OS",
        "yUTK9i25ETCr",
        "h2WW44Oa3hMg",
        "ycuONQMVC1-L",
        "8Tc50l-f6MeA",
        "Lb0oiLO4LCPJ"
      ],
      "toc_visible": true
    },
    "kernelspec": {
      "name": "python3",
      "display_name": "Python 3"
    }
  },
  "cells": [
    {
      "cell_type": "markdown",
      "metadata": {
        "id": "Bojj1oE6DtMe"
      },
      "source": [
        "# Carregamento de Dados"
      ]
    },
    {
      "cell_type": "code",
      "metadata": {
        "id": "0I-zZMvPD1s3"
      },
      "source": [
        "import pandas as pd       \n",
        "import random\n",
        "import numpy as np"
      ],
      "execution_count": null,
      "outputs": []
    },
    {
      "cell_type": "code",
      "metadata": {
        "id": "lAc9Vmj_D5zO"
      },
      "source": [
        "dataset=pd.read_csv('sample_data/census.csv')"
      ],
      "execution_count": null,
      "outputs": []
    },
    {
      "cell_type": "code",
      "metadata": {
        "id": "FdB8rSUGyZxb"
      },
      "source": [
        "dataset.head()"
      ],
      "execution_count": null,
      "outputs": []
    },
    {
      "cell_type": "code",
      "metadata": {
        "id": "W60yQh6RyT7I",
        "colab": {
          "base_uri": "https://localhost:8080/"
        },
        "outputId": "f2358efd-f2f2-42fd-f702-8e0628f02a93"
      },
      "source": [
        "dataset.shape"
      ],
      "execution_count": null,
      "outputs": [
        {
          "output_type": "execute_result",
          "data": {
            "text/plain": [
              "(32561, 15)"
            ]
          },
          "metadata": {
            "tags": []
          },
          "execution_count": 63
        }
      ]
    },
    {
      "cell_type": "code",
      "metadata": {
        "id": "4jDbmi4YyuT7"
      },
      "source": [
        "dataset.tail()"
      ],
      "execution_count": null,
      "outputs": []
    },
    {
      "cell_type": "markdown",
      "metadata": {
        "id": "cPpgRphw88OS"
      },
      "source": [
        "# Amostragem Aleatória Simples"
      ]
    },
    {
      "cell_type": "markdown",
      "metadata": {
        "id": "pycqsdKJP40R"
      },
      "source": [
        "**Amostra do tipo randômica, números aleatórios, todos com a mesma chance de serem escolhidos dentro da margem da amostra**"
      ]
    },
    {
      "cell_type": "markdown",
      "metadata": {
        "id": "7mDvc5x5zk2O"
      },
      "source": [
        "Retorna dados aleatórios (100) de exemplo e mantém seu estado antes de atribuir à uma variável"
      ]
    },
    {
      "cell_type": "code",
      "metadata": {
        "id": "rUpyP6eJ0EFH"
      },
      "source": [
        "df_amostra_aleatoria_simples = dataset.sample(n=100,random_state=1)"
      ],
      "execution_count": null,
      "outputs": []
    },
    {
      "cell_type": "markdown",
      "metadata": {
        "id": "AvGQdMEMb2GC"
      },
      "source": [
        "Retorna a quantidade de dados dentro dataset"
      ]
    },
    {
      "cell_type": "code",
      "metadata": {
        "colab": {
          "base_uri": "https://localhost:8080/"
        },
        "id": "6jgnDK9H0Ltp",
        "outputId": "124743ca-0059-4711-95a9-2687a13a67c7"
      },
      "source": [
        "df_amostra_aleatoria_simples.shape"
      ],
      "execution_count": null,
      "outputs": [
        {
          "output_type": "execute_result",
          "data": {
            "text/plain": [
              "(100, 15)"
            ]
          },
          "metadata": {
            "tags": []
          },
          "execution_count": 66
        }
      ]
    },
    {
      "cell_type": "markdown",
      "metadata": {
        "id": "gn3Yo6pscNF4"
      },
      "source": [
        "Mostra os 5 primeiros dados da variável"
      ]
    },
    {
      "cell_type": "code",
      "metadata": {
        "id": "DclQEsxz0aGw"
      },
      "source": [
        "df_amostra_aleatoria_simples.head()"
      ],
      "execution_count": null,
      "outputs": []
    },
    {
      "cell_type": "markdown",
      "metadata": {
        "id": "JTUIxbKVcT5m"
      },
      "source": [
        "Criada função para automatizar o exemplo"
      ]
    },
    {
      "cell_type": "code",
      "metadata": {
        "id": "mDMbcFBU1aAq"
      },
      "source": [
        "def  amostragem_aleatoria_simples(dataset,amostras):\n",
        "    return dataset.sample(n=amostras,random_state=1)"
      ],
      "execution_count": null,
      "outputs": []
    },
    {
      "cell_type": "markdown",
      "metadata": {
        "id": "pOwa6ZHZccIc"
      },
      "source": [
        "Atribuído resultado da função à uma variàvel e visualização dos 5 primeiros dados"
      ]
    },
    {
      "cell_type": "code",
      "metadata": {
        "id": "-pSz0W0b1tzO"
      },
      "source": [
        "df_amostra_aleatoria_simples=amostragem_aleatoria_simples(dataset,100)\n",
        "df_amostra_aleatoria_simples.head()"
      ],
      "execution_count": null,
      "outputs": []
    },
    {
      "cell_type": "markdown",
      "metadata": {
        "id": "yUTK9i25ETCr"
      },
      "source": [
        "# Amostragem Sistemática"
      ]
    },
    {
      "cell_type": "markdown",
      "metadata": {
        "id": "p9cNJkz9Qkhe"
      },
      "source": [
        "**Baseada num sistema estabelecido para qualificar a amostragem (por exemplo, sequencialmente com base num valor)**"
      ]
    },
    {
      "cell_type": "markdown",
      "metadata": {
        "id": "br4AUY8BKC82"
      },
      "source": [
        "Quantidade de itens no dataset"
      ]
    },
    {
      "cell_type": "code",
      "metadata": {
        "colab": {
          "base_uri": "https://localhost:8080/"
        },
        "id": "Do5jIce7Eb6h",
        "outputId": "f619ee7e-e65c-4b0d-d683-72f995f8b715"
      },
      "source": [
        "dataset.shape"
      ],
      "execution_count": null,
      "outputs": [
        {
          "output_type": "execute_result",
          "data": {
            "text/plain": [
              "(32561, 15)"
            ]
          },
          "metadata": {
            "tags": []
          },
          "execution_count": 70
        }
      ]
    },
    {
      "cell_type": "markdown",
      "metadata": {
        "id": "FbPwqXRiIg4P"
      },
      "source": [
        "Tamanho do Dataset -  divisão inteira (//) divisão decimal (/)"
      ]
    },
    {
      "cell_type": "code",
      "metadata": {
        "id": "A8cCuRwbEnB8",
        "colab": {
          "base_uri": "https://localhost:8080/"
        },
        "outputId": "5cc18617-9f4e-4a2b-fef5-170d5d650d95"
      },
      "source": [
        "len(dataset) // 100"
      ],
      "execution_count": null,
      "outputs": [
        {
          "output_type": "execute_result",
          "data": {
            "text/plain": [
              "325"
            ]
          },
          "metadata": {
            "tags": []
          },
          "execution_count": 71
        }
      ]
    },
    {
      "cell_type": "markdown",
      "metadata": {
        "id": "ziOXIlkZInjE"
      },
      "source": [
        "Gerar um número aleatório entre o intervalo (randint) e manter ele quando para próximas interações (seed(1))"
      ]
    },
    {
      "cell_type": "code",
      "metadata": {
        "id": "DrCjaIpYE8w-",
        "colab": {
          "base_uri": "https://localhost:8080/"
        },
        "outputId": "adc70a18-9c53-4819-aba0-d5d71f14de6b"
      },
      "source": [
        "random.seed(1)\n",
        "random.randint(0,325)"
      ],
      "execution_count": null,
      "outputs": [
        {
          "output_type": "execute_result",
          "data": {
            "text/plain": [
              "68"
            ]
          },
          "metadata": {
            "tags": []
          },
          "execution_count": 72
        }
      ]
    },
    {
      "cell_type": "markdown",
      "metadata": {
        "id": "XeJ5od_lJF_X"
      },
      "source": [
        "Com base no valor inicial(68) gerado acima, iterar com o sistema (325)"
      ]
    },
    {
      "cell_type": "code",
      "metadata": {
        "id": "7UN200zeFgor",
        "colab": {
          "base_uri": "https://localhost:8080/"
        },
        "outputId": "c37a6e17-c3f1-4c00-cfd9-bc6f53782e95"
      },
      "source": [
        "325+68\n",
        "393+325"
      ],
      "execution_count": null,
      "outputs": [
        {
          "output_type": "execute_result",
          "data": {
            "text/plain": [
              "718"
            ]
          },
          "metadata": {
            "tags": []
          },
          "execution_count": 73
        }
      ]
    },
    {
      "cell_type": "markdown",
      "metadata": {
        "id": "bPXrTSuMJNmf"
      },
      "source": [
        "Cria um array com base em valores passados, inicial(68), total(len(dataset) e iteração de quanto em quanto (325))"
      ]
    },
    {
      "cell_type": "code",
      "metadata": {
        "id": "ocQDon9MFxga",
        "colab": {
          "base_uri": "https://localhost:8080/"
        },
        "outputId": "b2c93306-7d0c-4abd-8d48-63007b9040f9"
      },
      "source": [
        "np.arange(68,len(dataset),step=325)"
      ],
      "execution_count": null,
      "outputs": [
        {
          "output_type": "execute_result",
          "data": {
            "text/plain": [
              "array([   68,   393,   718,  1043,  1368,  1693,  2018,  2343,  2668,\n",
              "        2993,  3318,  3643,  3968,  4293,  4618,  4943,  5268,  5593,\n",
              "        5918,  6243,  6568,  6893,  7218,  7543,  7868,  8193,  8518,\n",
              "        8843,  9168,  9493,  9818, 10143, 10468, 10793, 11118, 11443,\n",
              "       11768, 12093, 12418, 12743, 13068, 13393, 13718, 14043, 14368,\n",
              "       14693, 15018, 15343, 15668, 15993, 16318, 16643, 16968, 17293,\n",
              "       17618, 17943, 18268, 18593, 18918, 19243, 19568, 19893, 20218,\n",
              "       20543, 20868, 21193, 21518, 21843, 22168, 22493, 22818, 23143,\n",
              "       23468, 23793, 24118, 24443, 24768, 25093, 25418, 25743, 26068,\n",
              "       26393, 26718, 27043, 27368, 27693, 28018, 28343, 28668, 28993,\n",
              "       29318, 29643, 29968, 30293, 30618, 30943, 31268, 31593, 31918,\n",
              "       32243])"
            ]
          },
          "metadata": {
            "tags": []
          },
          "execution_count": 74
        }
      ]
    },
    {
      "cell_type": "markdown",
      "metadata": {
        "id": "wV_5nOZLJf47"
      },
      "source": [
        "Cria uma função para automatizar a amostragem sistemática"
      ]
    },
    {
      "cell_type": "code",
      "metadata": {
        "id": "BmQsxWflGJIQ"
      },
      "source": [
        "def amostragem_sistematica(dataset,amostras):\n",
        "  intervalo=len(dataset) // amostras\n",
        "  random.seed(1)\n",
        "  inicio=random.randint(0,intervalo)\n",
        "  indices=np.arange(inicio,len(dataset),step=intervalo)\n",
        "  amostra_sistematica=dataset.iloc[indices]\n",
        "  return amostra_sistematica"
      ],
      "execution_count": null,
      "outputs": []
    },
    {
      "cell_type": "markdown",
      "metadata": {
        "id": "zjdq2MjhJnqa"
      },
      "source": [
        "Atribui o valor gerado pela função para uma variavel "
      ]
    },
    {
      "cell_type": "code",
      "metadata": {
        "colab": {
          "base_uri": "https://localhost:8080/"
        },
        "id": "gAYCpBe5HDSR",
        "outputId": "12f3468f-90a8-4cd0-ee52-e16820cd2184"
      },
      "source": [
        "df_amostra_sistetica = amostragem_sistematica(dataset=dataset,amostras=100)\n",
        "df_amostra_sistetica.shape"
      ],
      "execution_count": null,
      "outputs": [
        {
          "output_type": "execute_result",
          "data": {
            "text/plain": [
              "(100, 15)"
            ]
          },
          "metadata": {
            "tags": []
          },
          "execution_count": 76
        }
      ]
    },
    {
      "cell_type": "markdown",
      "metadata": {
        "id": "BjpYxbbRJ1sQ"
      },
      "source": [
        "Visualização dos 5 primeiros itens"
      ]
    },
    {
      "cell_type": "code",
      "metadata": {
        "id": "YHIuBMaKHW3b",
        "colab": {
          "base_uri": "https://localhost:8080/",
          "height": 400
        },
        "outputId": "fd2c398c-71b8-46b9-ec0e-60d6f8e4b148"
      },
      "source": [
        "df_amostra_sistetica.head()"
      ],
      "execution_count": null,
      "outputs": [
        {
          "output_type": "execute_result",
          "data": {
            "text/html": [
              "<div>\n",
              "<style scoped>\n",
              "    .dataframe tbody tr th:only-of-type {\n",
              "        vertical-align: middle;\n",
              "    }\n",
              "\n",
              "    .dataframe tbody tr th {\n",
              "        vertical-align: top;\n",
              "    }\n",
              "\n",
              "    .dataframe thead th {\n",
              "        text-align: right;\n",
              "    }\n",
              "</style>\n",
              "<table border=\"1\" class=\"dataframe\">\n",
              "  <thead>\n",
              "    <tr style=\"text-align: right;\">\n",
              "      <th></th>\n",
              "      <th>age</th>\n",
              "      <th>workclass</th>\n",
              "      <th>final-weight</th>\n",
              "      <th>education</th>\n",
              "      <th>education-num</th>\n",
              "      <th>marital-status</th>\n",
              "      <th>occupation</th>\n",
              "      <th>relationship</th>\n",
              "      <th>race</th>\n",
              "      <th>sex</th>\n",
              "      <th>capital-gain</th>\n",
              "      <th>capital-loos</th>\n",
              "      <th>hour-per-week</th>\n",
              "      <th>native-country</th>\n",
              "      <th>income</th>\n",
              "    </tr>\n",
              "  </thead>\n",
              "  <tbody>\n",
              "    <tr>\n",
              "      <th>68</th>\n",
              "      <td>49</td>\n",
              "      <td>Self-emp-inc</td>\n",
              "      <td>191681</td>\n",
              "      <td>Some-college</td>\n",
              "      <td>10</td>\n",
              "      <td>Married-civ-spouse</td>\n",
              "      <td>Exec-managerial</td>\n",
              "      <td>Husband</td>\n",
              "      <td>White</td>\n",
              "      <td>Male</td>\n",
              "      <td>0</td>\n",
              "      <td>0</td>\n",
              "      <td>50</td>\n",
              "      <td>United-States</td>\n",
              "      <td>&gt;50K</td>\n",
              "    </tr>\n",
              "    <tr>\n",
              "      <th>393</th>\n",
              "      <td>34</td>\n",
              "      <td>State-gov</td>\n",
              "      <td>98101</td>\n",
              "      <td>Bachelors</td>\n",
              "      <td>13</td>\n",
              "      <td>Married-civ-spouse</td>\n",
              "      <td>Exec-managerial</td>\n",
              "      <td>Husband</td>\n",
              "      <td>White</td>\n",
              "      <td>Male</td>\n",
              "      <td>7688</td>\n",
              "      <td>0</td>\n",
              "      <td>45</td>\n",
              "      <td>?</td>\n",
              "      <td>&gt;50K</td>\n",
              "    </tr>\n",
              "    <tr>\n",
              "      <th>718</th>\n",
              "      <td>22</td>\n",
              "      <td>Private</td>\n",
              "      <td>214399</td>\n",
              "      <td>Some-college</td>\n",
              "      <td>10</td>\n",
              "      <td>Never-married</td>\n",
              "      <td>Sales</td>\n",
              "      <td>Own-child</td>\n",
              "      <td>White</td>\n",
              "      <td>Female</td>\n",
              "      <td>0</td>\n",
              "      <td>0</td>\n",
              "      <td>15</td>\n",
              "      <td>United-States</td>\n",
              "      <td>&lt;=50K</td>\n",
              "    </tr>\n",
              "    <tr>\n",
              "      <th>1043</th>\n",
              "      <td>44</td>\n",
              "      <td>Private</td>\n",
              "      <td>167005</td>\n",
              "      <td>Bachelors</td>\n",
              "      <td>13</td>\n",
              "      <td>Married-civ-spouse</td>\n",
              "      <td>Exec-managerial</td>\n",
              "      <td>Husband</td>\n",
              "      <td>White</td>\n",
              "      <td>Male</td>\n",
              "      <td>7688</td>\n",
              "      <td>0</td>\n",
              "      <td>60</td>\n",
              "      <td>United-States</td>\n",
              "      <td>&gt;50K</td>\n",
              "    </tr>\n",
              "    <tr>\n",
              "      <th>1368</th>\n",
              "      <td>52</td>\n",
              "      <td>Private</td>\n",
              "      <td>152234</td>\n",
              "      <td>HS-grad</td>\n",
              "      <td>9</td>\n",
              "      <td>Married-civ-spouse</td>\n",
              "      <td>Exec-managerial</td>\n",
              "      <td>Husband</td>\n",
              "      <td>Asian-Pac-Islander</td>\n",
              "      <td>Male</td>\n",
              "      <td>99999</td>\n",
              "      <td>0</td>\n",
              "      <td>40</td>\n",
              "      <td>Japan</td>\n",
              "      <td>&gt;50K</td>\n",
              "    </tr>\n",
              "  </tbody>\n",
              "</table>\n",
              "</div>"
            ],
            "text/plain": [
              "      age      workclass  final-weight  ... hour-per-week  native-country  income\n",
              "68     49   Self-emp-inc        191681  ...            50   United-States    >50K\n",
              "393    34      State-gov         98101  ...            45               ?    >50K\n",
              "718    22        Private        214399  ...            15   United-States   <=50K\n",
              "1043   44        Private        167005  ...            60   United-States    >50K\n",
              "1368   52        Private        152234  ...            40           Japan    >50K\n",
              "\n",
              "[5 rows x 15 columns]"
            ]
          },
          "metadata": {
            "tags": []
          },
          "execution_count": 77
        }
      ]
    },
    {
      "cell_type": "markdown",
      "metadata": {
        "id": "h2WW44Oa3hMg"
      },
      "source": [
        "# Amostragem por Grupos"
      ]
    },
    {
      "cell_type": "markdown",
      "metadata": {
        "id": "Pofxzy_qQ6zf"
      },
      "source": [
        "**Permite segregar a população em grupos com base em valores. Após segregado, utilizar alguma forma de amostragem acima para estabelecer os valores de amostra**"
      ]
    },
    {
      "cell_type": "markdown",
      "metadata": {
        "id": "4zL0k_4f30pY"
      },
      "source": [
        "Dividir total de registros para obter quantidade por em 10 grupos"
      ]
    },
    {
      "cell_type": "code",
      "metadata": {
        "colab": {
          "base_uri": "https://localhost:8080/"
        },
        "id": "1BCwy93G3m_2",
        "outputId": "b343e5af-27a7-4241-f7b2-367fef3611c6"
      },
      "source": [
        "len(dataset) //10"
      ],
      "execution_count": null,
      "outputs": [
        {
          "output_type": "execute_result",
          "data": {
            "text/plain": [
              "3256"
            ]
          },
          "metadata": {
            "tags": []
          },
          "execution_count": 78
        }
      ]
    },
    {
      "cell_type": "markdown",
      "metadata": {
        "id": "p69ZcOvb32Ip"
      },
      "source": [
        "Criado array e preenchido cpom valores de acordo com a condição estabelecida acima (3256) registros por grupo"
      ]
    },
    {
      "cell_type": "code",
      "metadata": {
        "id": "_v56dIVk3_dM"
      },
      "source": [
        "grupos = []\n",
        "id_grupo=0\n",
        "contagem=0\n",
        "\n",
        "for _ in dataset.iterrows():\n",
        " grupos.append(id_grupo)\n",
        " contagem +=1\n",
        " if contagem >3256:\n",
        "   contagem=0\n",
        "   id_grupo+=1\n"
      ],
      "execution_count": null,
      "outputs": []
    },
    {
      "cell_type": "markdown",
      "metadata": {
        "id": "3EGdhNcH64gT"
      },
      "source": [
        "Exibe o conteúdo do array"
      ]
    },
    {
      "cell_type": "code",
      "metadata": {
        "id": "VAYmOgJn5NQV"
      },
      "source": [
        "print(grupos)"
      ],
      "execution_count": null,
      "outputs": []
    },
    {
      "cell_type": "markdown",
      "metadata": {
        "id": "rTdPX7U65ZxW"
      },
      "source": [
        "Retorna uma matriz com os valores únicos e a quantidade de aparecimentos deles "
      ]
    },
    {
      "cell_type": "code",
      "metadata": {
        "id": "HI1CXq785aOX"
      },
      "source": [
        "np.unique(grupos,return_counts=True)"
      ],
      "execution_count": null,
      "outputs": []
    },
    {
      "cell_type": "markdown",
      "metadata": {
        "id": "kTB8HTmJ7Ipr"
      },
      "source": [
        "Exibir quantidade total de linha na lista e no dataset"
      ]
    },
    {
      "cell_type": "code",
      "metadata": {
        "colab": {
          "base_uri": "https://localhost:8080/"
        },
        "id": "xmt6WuRh5s-M",
        "outputId": "b3a34b9d-2e1d-4998-f6ca-30daa531111e"
      },
      "source": [
        "np.shape(grupos),dataset.shape"
      ],
      "execution_count": null,
      "outputs": [
        {
          "output_type": "execute_result",
          "data": {
            "text/plain": [
              "((32561,), (32561, 15))"
            ]
          },
          "metadata": {
            "tags": []
          },
          "execution_count": 82
        }
      ]
    },
    {
      "cell_type": "markdown",
      "metadata": {
        "id": "gcLVsR-k7dJx"
      },
      "source": [
        "Adicionado nova coluna (GRUPO) no dataset e atribuida lista de mesmo tamanho do dataset nessa coluna"
      ]
    },
    {
      "cell_type": "code",
      "metadata": {
        "id": "EPQYpUwx569G"
      },
      "source": [
        "dataset[\"grupo\"]=grupos\n",
        "dataset.head()"
      ],
      "execution_count": null,
      "outputs": []
    },
    {
      "cell_type": "markdown",
      "metadata": {
        "id": "2ZIIUEaN7xYA"
      },
      "source": [
        "Escolhe um número aleatório entre 0 e 9"
      ]
    },
    {
      "cell_type": "code",
      "metadata": {
        "id": "VVeOCQbn6Goo",
        "colab": {
          "base_uri": "https://localhost:8080/"
        },
        "outputId": "b712ff51-e4a4-45e3-ec14-ae36b1778680"
      },
      "source": [
        "random.randint(0,9)"
      ],
      "execution_count": null,
      "outputs": [
        {
          "output_type": "execute_result",
          "data": {
            "text/plain": [
              "9"
            ]
          },
          "metadata": {
            "tags": []
          },
          "execution_count": 84
        }
      ]
    },
    {
      "cell_type": "markdown",
      "metadata": {
        "id": "cEg8Kx6N8F1u"
      },
      "source": [
        "Filtra valores no dataset na coluna de GRUPO com base na condição e atribui para uma variável\n"
      ]
    },
    {
      "cell_type": "code",
      "metadata": {
        "id": "vwgpdGQk6MVk",
        "colab": {
          "base_uri": "https://localhost:8080/"
        },
        "outputId": "d5b62573-585b-41f5-e8c8-b5e73f8c1476"
      },
      "source": [
        "df_agrupamento=dataset[dataset[\"grupo\"]==7]\n",
        "df_agrupamento.shape"
      ],
      "execution_count": null,
      "outputs": [
        {
          "output_type": "execute_result",
          "data": {
            "text/plain": [
              "(3257, 16)"
            ]
          },
          "metadata": {
            "tags": []
          },
          "execution_count": 85
        }
      ]
    },
    {
      "cell_type": "markdown",
      "metadata": {
        "id": "5eMuG9QT80l_"
      },
      "source": [
        "Mostra os valores da coluna do grupo, tipo de dado e quantidade do valor"
      ]
    },
    {
      "cell_type": "code",
      "metadata": {
        "id": "3jspXFbp6cN4",
        "colab": {
          "base_uri": "https://localhost:8080/"
        },
        "outputId": "820a6f06-5ee5-40cf-929a-1eca01fedc8c"
      },
      "source": [
        "df_agrupamento[\"grupo\"].value_counts()"
      ],
      "execution_count": null,
      "outputs": [
        {
          "output_type": "execute_result",
          "data": {
            "text/plain": [
              "7    3257\n",
              "Name: grupo, dtype: int64"
            ]
          },
          "metadata": {
            "tags": []
          },
          "execution_count": 86
        }
      ]
    },
    {
      "cell_type": "markdown",
      "metadata": {
        "id": "AVjbd70k8lCY"
      },
      "source": [
        "Mostra quais valores, seus tipos e e suas quantidades na coluna especificada"
      ]
    },
    {
      "cell_type": "code",
      "metadata": {
        "id": "rJRL8da781De"
      },
      "source": [
        "def amostragem_agrupamento(dataset,numero_grupos):\n",
        "  intervalo = len(dataset) //numero_grupos\n",
        "  grupos =[]\n",
        "  id_grupo=0\n",
        "  contagem=0\n",
        "  for _ in dataset.iterrows():\n",
        "    grupos.append(id_grupo)\n",
        "    contagem+=1\n",
        "    if contagem>intervalo:\n",
        "      contagem=0\n",
        "      id_grupo+=1\n",
        "  dataset[\"grupo\"]=grupos\n",
        "  random.seed(1)\n",
        "  grupo_selecionado=random.randint(0,numero_grupos)\n",
        "  return dataset[dataset[\"grupo\"]==grupo_selecionado]"
      ],
      "execution_count": null,
      "outputs": []
    },
    {
      "cell_type": "markdown",
      "metadata": {
        "id": "aQbgeMb7_izY"
      },
      "source": [
        "Quantidade por grupo = (total de registros / numero de grupos) --- total de registros = (numero de grupos * quantidade por grupo)"
      ]
    },
    {
      "cell_type": "code",
      "metadata": {
        "id": "Kaps3IUN-9Ax",
        "colab": {
          "base_uri": "https://localhost:8080/"
        },
        "outputId": "2f18eb81-90ca-4705-a76d-730ad5e5ca82"
      },
      "source": [
        "len(dataset) //100\n",
        "325*100"
      ],
      "execution_count": null,
      "outputs": [
        {
          "output_type": "execute_result",
          "data": {
            "text/plain": [
              "32500"
            ]
          },
          "metadata": {
            "tags": []
          },
          "execution_count": 88
        }
      ]
    },
    {
      "cell_type": "markdown",
      "metadata": {
        "id": "dq0aRku-_Zzo"
      },
      "source": [
        "Execução da função e visualização dos resultados"
      ]
    },
    {
      "cell_type": "code",
      "metadata": {
        "id": "jroem8qE9-ZJ",
        "colab": {
          "base_uri": "https://localhost:8080/",
          "height": 366
        },
        "outputId": "ff0dc440-c76b-4755-a1a3-7c97fa699a67"
      },
      "source": [
        "df_amostra_agrupamento = amostragem_agrupamento(dataset,100)\n",
        "df_amostra_agrupamento.shape,  df_amostra_agrupamento[\"grupo\"].value_counts()\n",
        "df_amostra_agrupamento.head()"
      ],
      "execution_count": null,
      "outputs": [
        {
          "output_type": "execute_result",
          "data": {
            "text/html": [
              "<div>\n",
              "<style scoped>\n",
              "    .dataframe tbody tr th:only-of-type {\n",
              "        vertical-align: middle;\n",
              "    }\n",
              "\n",
              "    .dataframe tbody tr th {\n",
              "        vertical-align: top;\n",
              "    }\n",
              "\n",
              "    .dataframe thead th {\n",
              "        text-align: right;\n",
              "    }\n",
              "</style>\n",
              "<table border=\"1\" class=\"dataframe\">\n",
              "  <thead>\n",
              "    <tr style=\"text-align: right;\">\n",
              "      <th></th>\n",
              "      <th>age</th>\n",
              "      <th>workclass</th>\n",
              "      <th>final-weight</th>\n",
              "      <th>education</th>\n",
              "      <th>education-num</th>\n",
              "      <th>marital-status</th>\n",
              "      <th>occupation</th>\n",
              "      <th>relationship</th>\n",
              "      <th>race</th>\n",
              "      <th>sex</th>\n",
              "      <th>capital-gain</th>\n",
              "      <th>capital-loos</th>\n",
              "      <th>hour-per-week</th>\n",
              "      <th>native-country</th>\n",
              "      <th>income</th>\n",
              "      <th>grupo</th>\n",
              "    </tr>\n",
              "  </thead>\n",
              "  <tbody>\n",
              "    <tr>\n",
              "      <th>5542</th>\n",
              "      <td>40</td>\n",
              "      <td>Self-emp-inc</td>\n",
              "      <td>169878</td>\n",
              "      <td>Assoc-acdm</td>\n",
              "      <td>12</td>\n",
              "      <td>Married-civ-spouse</td>\n",
              "      <td>Exec-managerial</td>\n",
              "      <td>Wife</td>\n",
              "      <td>White</td>\n",
              "      <td>Female</td>\n",
              "      <td>0</td>\n",
              "      <td>0</td>\n",
              "      <td>40</td>\n",
              "      <td>United-States</td>\n",
              "      <td>&gt;50K</td>\n",
              "      <td>17</td>\n",
              "    </tr>\n",
              "    <tr>\n",
              "      <th>5543</th>\n",
              "      <td>44</td>\n",
              "      <td>Private</td>\n",
              "      <td>296728</td>\n",
              "      <td>Masters</td>\n",
              "      <td>14</td>\n",
              "      <td>Married-civ-spouse</td>\n",
              "      <td>Exec-managerial</td>\n",
              "      <td>Husband</td>\n",
              "      <td>White</td>\n",
              "      <td>Male</td>\n",
              "      <td>0</td>\n",
              "      <td>0</td>\n",
              "      <td>40</td>\n",
              "      <td>United-States</td>\n",
              "      <td>&gt;50K</td>\n",
              "      <td>17</td>\n",
              "    </tr>\n",
              "    <tr>\n",
              "      <th>5544</th>\n",
              "      <td>33</td>\n",
              "      <td>Local-gov</td>\n",
              "      <td>342458</td>\n",
              "      <td>Assoc-acdm</td>\n",
              "      <td>12</td>\n",
              "      <td>Divorced</td>\n",
              "      <td>Protective-serv</td>\n",
              "      <td>Not-in-family</td>\n",
              "      <td>White</td>\n",
              "      <td>Male</td>\n",
              "      <td>0</td>\n",
              "      <td>0</td>\n",
              "      <td>56</td>\n",
              "      <td>United-States</td>\n",
              "      <td>&lt;=50K</td>\n",
              "      <td>17</td>\n",
              "    </tr>\n",
              "    <tr>\n",
              "      <th>5545</th>\n",
              "      <td>21</td>\n",
              "      <td>Local-gov</td>\n",
              "      <td>38771</td>\n",
              "      <td>Some-college</td>\n",
              "      <td>10</td>\n",
              "      <td>Never-married</td>\n",
              "      <td>Adm-clerical</td>\n",
              "      <td>Own-child</td>\n",
              "      <td>White</td>\n",
              "      <td>Male</td>\n",
              "      <td>0</td>\n",
              "      <td>0</td>\n",
              "      <td>40</td>\n",
              "      <td>United-States</td>\n",
              "      <td>&lt;=50K</td>\n",
              "      <td>17</td>\n",
              "    </tr>\n",
              "    <tr>\n",
              "      <th>5546</th>\n",
              "      <td>35</td>\n",
              "      <td>Self-emp-not-inc</td>\n",
              "      <td>269300</td>\n",
              "      <td>Bachelors</td>\n",
              "      <td>13</td>\n",
              "      <td>Never-married</td>\n",
              "      <td>Other-service</td>\n",
              "      <td>Not-in-family</td>\n",
              "      <td>Black</td>\n",
              "      <td>Female</td>\n",
              "      <td>0</td>\n",
              "      <td>0</td>\n",
              "      <td>60</td>\n",
              "      <td>United-States</td>\n",
              "      <td>&lt;=50K</td>\n",
              "      <td>17</td>\n",
              "    </tr>\n",
              "  </tbody>\n",
              "</table>\n",
              "</div>"
            ],
            "text/plain": [
              "      age          workclass  final-weight  ...  native-country  income grupo\n",
              "5542   40       Self-emp-inc        169878  ...   United-States    >50K    17\n",
              "5543   44            Private        296728  ...   United-States    >50K    17\n",
              "5544   33          Local-gov        342458  ...   United-States   <=50K    17\n",
              "5545   21          Local-gov         38771  ...   United-States   <=50K    17\n",
              "5546   35   Self-emp-not-inc        269300  ...   United-States   <=50K    17\n",
              "\n",
              "[5 rows x 16 columns]"
            ]
          },
          "metadata": {
            "tags": []
          },
          "execution_count": 89
        }
      ]
    },
    {
      "cell_type": "markdown",
      "metadata": {
        "id": "ycuONQMVC1-L"
      },
      "source": [
        "# Amostragem Estratificada"
      ]
    },
    {
      "cell_type": "markdown",
      "metadata": {
        "id": "iEEQNAFXRrwa"
      },
      "source": [
        "**A população possuí membros com diferentes características que formam um grupo em comum. A amostra deve completar um percentual igual desse grups independente dos valores.**"
      ]
    },
    {
      "cell_type": "markdown",
      "metadata": {
        "id": "59Kqv5k-IsMd"
      },
      "source": [
        "Importar a biblioteca de Machine Learning"
      ]
    },
    {
      "cell_type": "code",
      "metadata": {
        "id": "O3oKbgi3DKxB"
      },
      "source": [
        "from sklearn.model_selection import StratifiedShuffleSplit as sp"
      ],
      "execution_count": null,
      "outputs": []
    },
    {
      "cell_type": "markdown",
      "metadata": {
        "id": "HNVfNM54Iwcp"
      },
      "source": [
        "Quantidade de valores diferentes na coluna"
      ]
    },
    {
      "cell_type": "code",
      "metadata": {
        "id": "5-lH81HAEVFO",
        "colab": {
          "base_uri": "https://localhost:8080/"
        },
        "outputId": "a5681205-b2b6-4a4e-e0dd-42d30826c68d"
      },
      "source": [
        "dataset[\"income\"].value_counts()"
      ],
      "execution_count": null,
      "outputs": [
        {
          "output_type": "execute_result",
          "data": {
            "text/plain": [
              " <=50K    24720\n",
              " >50K      7841\n",
              "Name: income, dtype: int64"
            ]
          },
          "metadata": {
            "tags": []
          },
          "execution_count": 91
        }
      ]
    },
    {
      "cell_type": "markdown",
      "metadata": {
        "id": "6bQ00dj4I1ic"
      },
      "source": [
        "Recuperar base percentual com base em cada valor diferente / total registros"
      ]
    },
    {
      "cell_type": "code",
      "metadata": {
        "id": "5Oxc4D6JE3XD",
        "colab": {
          "base_uri": "https://localhost:8080/"
        },
        "outputId": "7d28e162-3796-4442-e54b-eecd48025791"
      },
      "source": [
        "7841 / len(dataset), 24720 / len(dataset)\n",
        "0.2408095574460244+ 0.7591904425539756"
      ],
      "execution_count": null,
      "outputs": [
        {
          "output_type": "execute_result",
          "data": {
            "text/plain": [
              "1.0"
            ]
          },
          "metadata": {
            "tags": []
          },
          "execution_count": 92
        }
      ]
    },
    {
      "cell_type": "markdown",
      "metadata": {
        "id": "TWbv8ZX8JGpE"
      },
      "source": [
        "Base percentual de 100 registros na base de dados"
      ]
    },
    {
      "cell_type": "code",
      "metadata": {
        "colab": {
          "base_uri": "https://localhost:8080/"
        },
        "id": "tydeif7NH4jt",
        "outputId": "a735a650-eb47-4c15-bdcc-4ad606e7fdb0"
      },
      "source": [
        "100 / len(dataset)"
      ],
      "execution_count": null,
      "outputs": [
        {
          "output_type": "execute_result",
          "data": {
            "text/plain": [
              "0.0030711587481956942"
            ]
          },
          "metadata": {
            "tags": []
          },
          "execution_count": 93
        }
      ]
    },
    {
      "cell_type": "markdown",
      "metadata": {
        "id": "fSH-8UdQJQD4"
      },
      "source": [
        "Separa os valores do dataset de forma uniforme em x (Maior parte) e y (menor parte, passada por parâmetro) e os atribui a cada dataset"
      ]
    },
    {
      "cell_type": "code",
      "metadata": {
        "id": "5mkx0HS5FvXF"
      },
      "source": [
        "split = sp(test_size=0.0030711587481956942)\n",
        "for x,y in split.split(dataset,dataset[\"income\"]):\n",
        "  df_x =dataset.iloc[x]\n",
        "  df_y =dataset.iloc[y]"
      ],
      "execution_count": null,
      "outputs": []
    },
    {
      "cell_type": "markdown",
      "metadata": {
        "id": "sWj4zFj0JiRr"
      },
      "source": [
        "Exibição de quantidades de registros de cada dataset"
      ]
    },
    {
      "cell_type": "code",
      "metadata": {
        "colab": {
          "base_uri": "https://localhost:8080/"
        },
        "id": "zfsBNMfBHXLv",
        "outputId": "08d86c22-0e1d-476b-f49a-f7a8e62f0be4"
      },
      "source": [
        "df_x.shape, df_y.shape"
      ],
      "execution_count": null,
      "outputs": [
        {
          "output_type": "execute_result",
          "data": {
            "text/plain": [
              "((32461, 16), (100, 16))"
            ]
          },
          "metadata": {
            "tags": []
          },
          "execution_count": 95
        }
      ]
    },
    {
      "cell_type": "markdown",
      "metadata": {
        "id": "nQxIk-HQJsLN"
      },
      "source": [
        "Exibe os 5 primeiros registros do dataset"
      ]
    },
    {
      "cell_type": "code",
      "metadata": {
        "id": "FUozGMcOIMS-"
      },
      "source": [
        "df_y.head()"
      ],
      "execution_count": null,
      "outputs": []
    },
    {
      "cell_type": "markdown",
      "metadata": {
        "id": "f0dB-YDPJ3dQ"
      },
      "source": [
        "Demonstração da separação e distribuição dos valores "
      ]
    },
    {
      "cell_type": "code",
      "metadata": {
        "id": "a0FZKrKxITTx"
      },
      "source": [
        "df_y[\"income\"].value_counts()"
      ],
      "execution_count": null,
      "outputs": []
    },
    {
      "cell_type": "markdown",
      "metadata": {
        "id": "ScZqAy3rMr4I"
      },
      "source": [
        "Criação de função para armazenar resultados das amostras e retornar um dataset"
      ]
    },
    {
      "cell_type": "code",
      "metadata": {
        "id": "IwuWNBabLlso"
      },
      "source": [
        "def amostragem_estratificada(dataset,percentual):\n",
        "  split = sp(test_size=percentual,random_state=1)\n",
        "  for _,y in split.split(dataset,dataset[\"income\"]):\n",
        "    df_y =dataset.iloc[y]\n",
        "  return df_y"
      ],
      "execution_count": null,
      "outputs": []
    },
    {
      "cell_type": "markdown",
      "metadata": {
        "id": "WiDOs1OpM2Im"
      },
      "source": [
        "Dados retornados com base no percentual com base no total do dataset (100 registros)"
      ]
    },
    {
      "cell_type": "code",
      "metadata": {
        "id": "-OUft3oGMLZF"
      },
      "source": [
        "df_amostra_estratificada = amostragem_estratificada(dataset,0.0030711587481956942)\n",
        "df_amostra_estratificada.shape"
      ],
      "execution_count": null,
      "outputs": []
    },
    {
      "cell_type": "markdown",
      "metadata": {
        "id": "73QDz8uDM-vw"
      },
      "source": [
        "Retorno dos dados"
      ]
    },
    {
      "cell_type": "code",
      "metadata": {
        "colab": {
          "base_uri": "https://localhost:8080/",
          "height": 350
        },
        "id": "GztsA83aMo-a",
        "outputId": "c3832ec3-5e93-40cb-b2b0-020b4e93d1c2"
      },
      "source": [
        "df_amostra_estratificada.head()"
      ],
      "execution_count": null,
      "outputs": [
        {
          "output_type": "execute_result",
          "data": {
            "text/html": [
              "<div>\n",
              "<style scoped>\n",
              "    .dataframe tbody tr th:only-of-type {\n",
              "        vertical-align: middle;\n",
              "    }\n",
              "\n",
              "    .dataframe tbody tr th {\n",
              "        vertical-align: top;\n",
              "    }\n",
              "\n",
              "    .dataframe thead th {\n",
              "        text-align: right;\n",
              "    }\n",
              "</style>\n",
              "<table border=\"1\" class=\"dataframe\">\n",
              "  <thead>\n",
              "    <tr style=\"text-align: right;\">\n",
              "      <th></th>\n",
              "      <th>age</th>\n",
              "      <th>workclass</th>\n",
              "      <th>final-weight</th>\n",
              "      <th>education</th>\n",
              "      <th>education-num</th>\n",
              "      <th>marital-status</th>\n",
              "      <th>occupation</th>\n",
              "      <th>relationship</th>\n",
              "      <th>race</th>\n",
              "      <th>sex</th>\n",
              "      <th>capital-gain</th>\n",
              "      <th>capital-loos</th>\n",
              "      <th>hour-per-week</th>\n",
              "      <th>native-country</th>\n",
              "      <th>income</th>\n",
              "      <th>grupo</th>\n",
              "    </tr>\n",
              "  </thead>\n",
              "  <tbody>\n",
              "    <tr>\n",
              "      <th>5611</th>\n",
              "      <td>47</td>\n",
              "      <td>Private</td>\n",
              "      <td>176319</td>\n",
              "      <td>HS-grad</td>\n",
              "      <td>9</td>\n",
              "      <td>Married-civ-spouse</td>\n",
              "      <td>Sales</td>\n",
              "      <td>Own-child</td>\n",
              "      <td>White</td>\n",
              "      <td>Female</td>\n",
              "      <td>0</td>\n",
              "      <td>0</td>\n",
              "      <td>38</td>\n",
              "      <td>United-States</td>\n",
              "      <td>&gt;50K</td>\n",
              "      <td>17</td>\n",
              "    </tr>\n",
              "    <tr>\n",
              "      <th>30532</th>\n",
              "      <td>41</td>\n",
              "      <td>Private</td>\n",
              "      <td>242619</td>\n",
              "      <td>Assoc-acdm</td>\n",
              "      <td>12</td>\n",
              "      <td>Divorced</td>\n",
              "      <td>Prof-specialty</td>\n",
              "      <td>Not-in-family</td>\n",
              "      <td>White</td>\n",
              "      <td>Male</td>\n",
              "      <td>0</td>\n",
              "      <td>0</td>\n",
              "      <td>80</td>\n",
              "      <td>United-States</td>\n",
              "      <td>&lt;=50K</td>\n",
              "      <td>93</td>\n",
              "    </tr>\n",
              "    <tr>\n",
              "      <th>4586</th>\n",
              "      <td>21</td>\n",
              "      <td>Private</td>\n",
              "      <td>152540</td>\n",
              "      <td>HS-grad</td>\n",
              "      <td>9</td>\n",
              "      <td>Never-married</td>\n",
              "      <td>Adm-clerical</td>\n",
              "      <td>Not-in-family</td>\n",
              "      <td>White</td>\n",
              "      <td>Female</td>\n",
              "      <td>0</td>\n",
              "      <td>0</td>\n",
              "      <td>35</td>\n",
              "      <td>United-States</td>\n",
              "      <td>&lt;=50K</td>\n",
              "      <td>14</td>\n",
              "    </tr>\n",
              "    <tr>\n",
              "      <th>15764</th>\n",
              "      <td>33</td>\n",
              "      <td>Private</td>\n",
              "      <td>132705</td>\n",
              "      <td>9th</td>\n",
              "      <td>5</td>\n",
              "      <td>Separated</td>\n",
              "      <td>Adm-clerical</td>\n",
              "      <td>Not-in-family</td>\n",
              "      <td>White</td>\n",
              "      <td>Male</td>\n",
              "      <td>0</td>\n",
              "      <td>0</td>\n",
              "      <td>48</td>\n",
              "      <td>United-States</td>\n",
              "      <td>&lt;=50K</td>\n",
              "      <td>48</td>\n",
              "    </tr>\n",
              "    <tr>\n",
              "      <th>4511</th>\n",
              "      <td>24</td>\n",
              "      <td>Private</td>\n",
              "      <td>140001</td>\n",
              "      <td>Bachelors</td>\n",
              "      <td>13</td>\n",
              "      <td>Never-married</td>\n",
              "      <td>Exec-managerial</td>\n",
              "      <td>Not-in-family</td>\n",
              "      <td>White</td>\n",
              "      <td>Male</td>\n",
              "      <td>0</td>\n",
              "      <td>0</td>\n",
              "      <td>40</td>\n",
              "      <td>United-States</td>\n",
              "      <td>&lt;=50K</td>\n",
              "      <td>13</td>\n",
              "    </tr>\n",
              "  </tbody>\n",
              "</table>\n",
              "</div>"
            ],
            "text/plain": [
              "       age workclass  final-weight  ...  native-country  income grupo\n",
              "5611    47   Private        176319  ...   United-States    >50K    17\n",
              "30532   41   Private        242619  ...   United-States   <=50K    93\n",
              "4586    21   Private        152540  ...   United-States   <=50K    14\n",
              "15764   33   Private        132705  ...   United-States   <=50K    48\n",
              "4511    24   Private        140001  ...   United-States   <=50K    13\n",
              "\n",
              "[5 rows x 16 columns]"
            ]
          },
          "metadata": {
            "tags": []
          },
          "execution_count": 118
        }
      ]
    },
    {
      "cell_type": "markdown",
      "metadata": {
        "id": "8Tc50l-f6MeA"
      },
      "source": [
        "# Amostragem de Reservatório"
      ]
    },
    {
      "cell_type": "markdown",
      "metadata": {
        "id": "VUoArgRiSHsa"
      },
      "source": [
        "**A população é um Data Stream (fluxo de dados contínuos de tamanho desconhecido que pode ser acessado uma única vez). A amostra deve ser formada por itens com a mesma probabilidade de serem escolhidos.**"
      ]
    },
    {
      "cell_type": "markdown",
      "metadata": {
        "id": "fEa2R8lK7wrx"
      },
      "source": [
        "Cria uma lista do tamanho do dataset e a preenche com o indice"
      ]
    },
    {
      "cell_type": "code",
      "metadata": {
        "id": "UqRgUz_I6QOh"
      },
      "source": [
        "stream = []\n",
        "for i in range(len(dataset)):\n",
        "  stream.append(i)\n",
        "  "
      ],
      "execution_count": null,
      "outputs": []
    },
    {
      "cell_type": "markdown",
      "metadata": {
        "id": "E-pmBhLc77D8"
      },
      "source": [
        "Exibe a lista criada"
      ]
    },
    {
      "cell_type": "code",
      "metadata": {
        "id": "5edLXmWs6joB"
      },
      "source": [
        "print(stream)"
      ],
      "execution_count": null,
      "outputs": []
    },
    {
      "cell_type": "markdown",
      "metadata": {
        "id": "up_RSXPo8G56"
      },
      "source": [
        "Cria uma função para criar um reservatório e preenché-lo com números aleatórios dentro da amostra"
      ]
    },
    {
      "cell_type": "code",
      "metadata": {
        "id": "U35050xj6sVF"
      },
      "source": [
        "def amostragem_reservatorio(dataset,amostras):\n",
        " stream=[]\n",
        " for i in range(len(dataset)):\n",
        "   stream.append(i)\n",
        "  \n",
        " i=0\n",
        " tamanho=len(dataset)\n",
        " reservatorio=[0]*amostras\n",
        " for i in range(amostras):\n",
        "   reservatorio[i]=stream[i]\n",
        "\n",
        " while i < tamanho:\n",
        "   j=random.randrange(i+1)\n",
        "   if j < amostras:\n",
        "    reservatorio[j]=stream[i]\n",
        "   i+=1\n",
        " return dataset.iloc[reservatorio]"
      ],
      "execution_count": null,
      "outputs": []
    },
    {
      "cell_type": "markdown",
      "metadata": {
        "id": "evLHKCu38fZv"
      },
      "source": [
        "Chama a função com amostragem de 100 dados"
      ]
    },
    {
      "cell_type": "code",
      "metadata": {
        "colab": {
          "base_uri": "https://localhost:8080/"
        },
        "id": "9Kez-MG28Hqa",
        "outputId": "7113ad61-4eb4-4441-dcd8-f9ce4d14f06f"
      },
      "source": [
        "df_amostragem_reservatorio=amostragem_reservatorio(dataset,100)\n",
        "df_amostragem_reservatorio.shape"
      ],
      "execution_count": null,
      "outputs": [
        {
          "output_type": "execute_result",
          "data": {
            "text/plain": [
              "(100, 16)"
            ]
          },
          "metadata": {
            "tags": []
          },
          "execution_count": 104
        }
      ]
    },
    {
      "cell_type": "markdown",
      "metadata": {
        "id": "PSYvgkAr8o3l"
      },
      "source": [
        "Exibe os 5 primeiros itens da amostra"
      ]
    },
    {
      "cell_type": "code",
      "metadata": {
        "id": "Fgsy-RJr8dAO"
      },
      "source": [
        "df_amostragem_reservatorio.head()"
      ],
      "execution_count": null,
      "outputs": []
    },
    {
      "cell_type": "markdown",
      "metadata": {
        "id": "Lb0oiLO4LCPJ"
      },
      "source": [
        "# Comparativo dos Resultados"
      ]
    },
    {
      "cell_type": "markdown",
      "metadata": {
        "id": "CfDd1_p-SpAN"
      },
      "source": [
        "**Comparação dos diferentes tipos de amostra utilizados.**"
      ]
    },
    {
      "cell_type": "markdown",
      "metadata": {
        "id": "BOvT9YflNnDb"
      },
      "source": [
        "Média de idade dos participantes"
      ]
    },
    {
      "cell_type": "code",
      "metadata": {
        "colab": {
          "base_uri": "https://localhost:8080/"
        },
        "id": "Jyx50efTLII_",
        "outputId": "c10bdc5f-43ce-4e46-fff8-bf709367ab2c"
      },
      "source": [
        "dataset[\"age\"].mean()"
      ],
      "execution_count": null,
      "outputs": [
        {
          "output_type": "execute_result",
          "data": {
            "text/plain": [
              "38.58164675532078"
            ]
          },
          "metadata": {
            "tags": []
          },
          "execution_count": 119
        }
      ]
    },
    {
      "cell_type": "markdown",
      "metadata": {
        "id": "Hqs3MRMHNyAI"
      },
      "source": [
        "Média de idade da amostra aleatória simples"
      ]
    },
    {
      "cell_type": "code",
      "metadata": {
        "colab": {
          "base_uri": "https://localhost:8080/"
        },
        "id": "dqhMa7BhNt3k",
        "outputId": "3ee152c1-a833-4401-dc7b-6f0151d7cfbb"
      },
      "source": [
        "df_amostra_aleatoria_simples[\"age\"].mean()"
      ],
      "execution_count": null,
      "outputs": [
        {
          "output_type": "execute_result",
          "data": {
            "text/plain": [
              "39.41"
            ]
          },
          "metadata": {
            "tags": []
          },
          "execution_count": 120
        }
      ]
    },
    {
      "cell_type": "markdown",
      "metadata": {
        "id": "X8U31cZRPdRY"
      },
      "source": [
        "Média de idade da amostra sistemática"
      ]
    },
    {
      "cell_type": "code",
      "metadata": {
        "colab": {
          "base_uri": "https://localhost:8080/"
        },
        "id": "ImelBXTvOARL",
        "outputId": "08203af0-3244-4874-b459-bd34e44174ec"
      },
      "source": [
        "df_amostra_sistetica[\"age\"].mean()"
      ],
      "execution_count": null,
      "outputs": [
        {
          "output_type": "execute_result",
          "data": {
            "text/plain": [
              "37.57"
            ]
          },
          "metadata": {
            "tags": []
          },
          "execution_count": 121
        }
      ]
    },
    {
      "cell_type": "markdown",
      "metadata": {
        "id": "AIbXFI7GPhqv"
      },
      "source": [
        "Média de idade da amostra por agrupamento"
      ]
    },
    {
      "cell_type": "code",
      "metadata": {
        "colab": {
          "base_uri": "https://localhost:8080/"
        },
        "id": "iauArNfhOxCM",
        "outputId": "0e9fb284-1544-4be3-d5cc-f543b7e37534"
      },
      "source": [
        "df_amostra_agrupamento[\"age\"].mean()"
      ],
      "execution_count": null,
      "outputs": [
        {
          "output_type": "execute_result",
          "data": {
            "text/plain": [
              "39.23312883435583"
            ]
          },
          "metadata": {
            "tags": []
          },
          "execution_count": 122
        }
      ]
    },
    {
      "cell_type": "markdown",
      "metadata": {
        "id": "HiO3BcP0PlMx"
      },
      "source": [
        "Média de idade da amostra estratificada"
      ]
    },
    {
      "cell_type": "code",
      "metadata": {
        "colab": {
          "base_uri": "https://localhost:8080/"
        },
        "id": "YdzUFKifO6nX",
        "outputId": "a4ce1a1a-ab1c-4125-88e6-b7554f2d286a"
      },
      "source": [
        "df_amostra_estratificada[\"age\"].mean()"
      ],
      "execution_count": null,
      "outputs": [
        {
          "output_type": "execute_result",
          "data": {
            "text/plain": [
              "36.9"
            ]
          },
          "metadata": {
            "tags": []
          },
          "execution_count": 123
        }
      ]
    },
    {
      "cell_type": "markdown",
      "metadata": {
        "id": "CHzxyS04PpdO"
      },
      "source": [
        "Média de idade da amostra por reservatório"
      ]
    },
    {
      "cell_type": "code",
      "metadata": {
        "colab": {
          "base_uri": "https://localhost:8080/"
        },
        "id": "VO5UUm20PCqR",
        "outputId": "d719d5ff-939d-4a78-ddb4-c71628f94c10"
      },
      "source": [
        "df_amostragem_reservatorio[\"age\"].mean()"
      ],
      "execution_count": null,
      "outputs": [
        {
          "output_type": "execute_result",
          "data": {
            "text/plain": [
              "38.32"
            ]
          },
          "metadata": {
            "tags": []
          },
          "execution_count": 124
        }
      ]
    },
    {
      "cell_type": "markdown",
      "metadata": {
        "id": "QnKr4tqxPS-T"
      },
      "source": [
        "Conclusão: Amostragem de reservatório tem a melhor margem"
      ]
    }
  ]
}